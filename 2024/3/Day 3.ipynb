{
 "cells": [
  {
   "cell_type": "code",
   "execution_count": null,
   "metadata": {},
   "outputs": [
    {
     "name": "stdout",
     "output_type": "stream",
     "text": [
      "Solution 1:  161\n",
      "Solution 2:  48\n"
     ]
    },
    {
     "data": {
      "text/plain": [
       "[('2', '4', '', ''),\n",
       " ('', '', '', \"don't()\"),\n",
       " ('5', '5', '', ''),\n",
       " ('11', '8', '', ''),\n",
       " ('', '', 'do()', ''),\n",
       " ('8', '5', '', '')]"
      ]
     },
     "execution_count": 10,
     "metadata": {},
     "output_type": "execute_result"
    }
   ],
   "source": [
    "import re\n",
    "\n",
    "memory = open(\"input.txt\", \"r\").read()\n",
    "\n",
    "\n",
    "# Regex returns in form:\n",
    "# ('2', '55')\n",
    "muls = re.findall(\"mul\\((\\d+),(\\d+)\\)\", memory)\n",
    "\n",
    "result1 = sum([int(x) * int(y) for x, y in muls]) \n",
    "print(\"Solution 1: \", result1)\n",
    "\n",
    "### PART 2 ###\n",
    "\n",
    "# Regex returns in form:\n",
    "# [('2', '4', '', ''), \n",
    "# ('', '', '', \"don't()\"), \n",
    "# ('', '', 'do()', '')]\n",
    "\n",
    "\n",
    "muls = re.findall(\"mul\\((\\d+),(\\d+)\\)|(do\\(\\))|(    ))\", memory)\n",
    "\n",
    "enabled = True\n",
    "result2 = 0\n",
    "\n",
    "for x, y, En, Dis in muls:\n",
    "    if En: \n",
    "        enabled = True\n",
    "        continue\n",
    "    if Dis: \n",
    "        enabled = False\n",
    "        continue\n",
    "    \n",
    "    if enabled:\n",
    "        result2 += int(x) * int(y)\n",
    "\n",
    "print(\"Solution 2: \", result2)\n",
    "\n",
    "muls"
   ]
  },
  {
   "cell_type": "code",
   "execution_count": 15,
   "metadata": {},
   "outputs": [
    {
     "name": "stdout",
     "output_type": "stream",
     "text": [
      "1.4 ms ± 20.5 µs per loop (mean ± std. dev. of 7 runs, 1,000 loops each)\n"
     ]
    }
   ],
   "source": [
    "%%timeit -n 1000\n",
    "\n",
    "import re\n",
    "\n",
    "memory = open(\"input.txt\", \"r\").read()\n",
    "\n",
    "\n",
    "# Regex returns in form:\n",
    "# ('2', '55')\n",
    "muls = re.findall(\"mul\\((\\d+),(\\d+)\\)\", memory)\n",
    "\n",
    "result1 = sum([int(x) * int(y) for x, y in muls]) \n",
    "# print(\"Solution 1: \", result1)\n",
    "\n",
    "\n",
    "### PART 2 ###\n",
    "\n",
    "# Regex returns in form:\n",
    "# [('2', '4', '', ''), \n",
    "# ('', '', '', \"don't()\"), \n",
    "# ('', '', 'do()', '')]\n",
    "\n",
    "muls = re.findall(\"mul\\((\\d+),(\\d+)\\)|(do\\(\\))|(don't\\(\\))\", memory)\n",
    "enabled = True\n",
    "result2 = 0\n",
    "\n",
    "for x, y, En, Dis in muls:\n",
    "    if En: \n",
    "        enabled = True\n",
    "        continue\n",
    "    if Dis: \n",
    "        enabled = False\n",
    "        continue\n",
    "    \n",
    "    if enabled:\n",
    "        result2 += int(x) * int(y)\n",
    "\n",
    "# print(\"Solution 2: \", result2)"
   ]
  },
  {
   "cell_type": "code",
   "execution_count": null,
   "metadata": {},
   "outputs": [
    {
     "name": "stdout",
     "output_type": "stream",
     "text": [
      "2.47 ms ± 12.8 µs per loop (mean ± std. dev. of 7 runs, 1,000 loops each)\n"
     ]
    }
   ],
   "source": [
    "%%timeit -n 1000\n",
    "\n",
    "# Knjiznice\n",
    "import re\n",
    "import time\n",
    "\n",
    "# Dan 3\n",
    "def mull_it_over(c):\n",
    "    sestevek = 0\n",
    "    string_m = c\n",
    "    preobilika = re.split(r\"mul\\(\", string_m)\n",
    "    for niz in preobilika:\n",
    "        r = re.split(r\"[,)]\", niz)\n",
    "        if (len(r) >= 3 and (r[0].isnumeric() and r[1].isnumeric())\n",
    "                and len(r[0]) < 4 and len(r[1]) < 4):\n",
    "            sestevek += (int(r[0]) * int(r[1]))\n",
    "    return sestevek\n",
    "\n",
    "def do_dont():\n",
    "    sestevek = 0\n",
    "    prebrano = open(\"Matrike/D3\", \"r\").read()\n",
    "    rezdeli = prebrano.split(\"do()\")\n",
    "    for niz in rezdeli:\n",
    "        if niz.find(\"don't()\") == -1:\n",
    "            sestevek += mull_it_over(niz)\n",
    "        else:\n",
    "            sestevek += mull_it_over(niz[:niz.find(\"don't()\")])\n",
    "    return sestevek\n",
    "\n",
    "a = mull_it_over(open(\"input.txt\", \"r\").read())\n",
    "a = do_dont()"
   ]
  },
  {
   "cell_type": "code",
   "execution_count": null,
   "metadata": {},
   "outputs": [],
   "source": []
  }
 ],
 "metadata": {
  "kernelspec": {
   "display_name": "base",
   "language": "python",
   "name": "python3"
  },
  "language_info": {
   "codemirror_mode": {
    "name": "ipython",
    "version": 3
   },
   "file_extension": ".py",
   "mimetype": "text/x-python",
   "name": "python",
   "nbconvert_exporter": "python",
   "pygments_lexer": "ipython3",
   "version": "3.11.5"
  }
 },
 "nbformat": 4,
 "nbformat_minor": 2
}
