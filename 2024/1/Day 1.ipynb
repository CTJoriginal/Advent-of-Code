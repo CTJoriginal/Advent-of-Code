{
 "cells": [
  {
   "cell_type": "code",
   "execution_count": 8,
   "metadata": {},
   "outputs": [
    {
     "name": "stdout",
     "output_type": "stream",
     "text": [
      "2367773\n"
     ]
    }
   ],
   "source": [
    "import numpy as np\n",
    "\n",
    "inp = np.loadtxt(\"input.txt\", dtype=int)\n",
    "list1 = np.sort(inp[:, 0])\n",
    "list2 = np.sort(inp[:, 1])\n",
    "\n",
    "total_dst = 0\n",
    "\n",
    "for index, var in enumerate(list1):\n",
    "    total_dst += np.abs(var - list2[index])\n",
    "    \n",
    "print(total_dst)    \n"
   ]
  },
  {
   "cell_type": "code",
   "execution_count": 21,
   "metadata": {},
   "outputs": [
    {
     "data": {
      "text/plain": [
       "21271939"
      ]
     },
     "execution_count": 21,
     "metadata": {},
     "output_type": "execute_result"
    }
   ],
   "source": [
    "counts = {}\n",
    "\n",
    "for i in list2:\n",
    "    if i not in counts:\n",
    "        counts[i] = 0\n",
    "    counts[i] += 1\n",
    "    \n",
    "counts\n",
    "\n",
    "\n",
    "sim_score = 0\n",
    "\n",
    "for i in list1:\n",
    "    if i in counts: sim_score += i * counts[i]\n",
    "\n",
    "sim_score\n",
    "        "
   ]
  },
  {
   "cell_type": "code",
   "execution_count": null,
   "metadata": {},
   "outputs": [
    {
     "data": {
      "text/plain": [
       "9"
      ]
     },
     "execution_count": 16,
     "metadata": {},
     "output_type": "execute_result"
    }
   ],
   "source": [
    "import numpy as np\n",
    "import matplotlib.pyplot as plt\n",
    "\n",
    "q=14\n",
    "L=5000\n",
    "E=2e5\n",
    "J=4e6\n",
    "\n",
    "x=np.arange(0, L+1, 25)\n",
    "\n",
    "f= ((q * L ** 2 * x ** 2)/(240 * E * J)) * (7-9 * (x/L))\n",
    "\n",
    "fmax=np.max(f)\n",
    "imax=np.argmax(f)\n",
    "xmax=x[imax]\n",
    "fmax\n",
    "\n",
    "imax"
   ]
  },
  {
   "cell_type": "code",
   "execution_count": 25,
   "metadata": {},
   "outputs": [
    {
     "data": {
      "text/plain": [
       "array([0.002, 0.004])"
      ]
     },
     "execution_count": 25,
     "metadata": {},
     "output_type": "execute_result"
    }
   ],
   "source": [
    "np.array([10, 20])/5000\n"
   ]
  },
  {
   "cell_type": "code",
   "execution_count": 23,
   "metadata": {},
   "outputs": [
    {
     "data": {
      "text/plain": [
       "array([0.002, 0.004])"
      ]
     },
     "execution_count": 23,
     "metadata": {},
     "output_type": "execute_result"
    }
   ],
   "source": [
    "np.array([10.0, 20.0])/5e3"
   ]
  },
  {
   "cell_type": "code",
   "execution_count": 33,
   "metadata": {},
   "outputs": [
    {
     "name": "stdout",
     "output_type": "stream",
     "text": [
      "L1 = 5000\n",
      "fmax1: 6.904001658856249e-05\n",
      "imax1: 9\n",
      "xmax1: 225\n",
      "\n",
      "L2 = 5e3\n",
      "fmax2: 33.337500000000006\n",
      "imax2: 120\n",
      "xmax2: 3000.0\n"
     ]
    },
    {
     "data": {
      "image/png": "[encoded data removed]",
      "text/plain": [
       "<Figure size 640x480 with 1 Axes>"
      ]
     },
     "metadata": {},
     "output_type": "display_data"
    }
   ],
   "source": [
    "import numpy as np\n",
    "import matplotlib.pyplot as plt\n",
    "\n",
    "q = 14\n",
    "L1 = 5000\n",
    "L2 = 5e3\n",
    "E = 2e5\n",
    "J = 4e6\n",
    "\n",
    "x1 = np.arange(0, L1 + 1, 25)\n",
    "x2 = np.arange(0, L2 + 1, 25)\n",
    "\n",
    "f1 = ((q * (L1 ** 2) * (x1 ** 2)) / (240 * E * J) * (7 - 9 * (x1 / L1) + 2 * (x1 / L1) ** 3))\n",
    "f2 = ((q * L2 ** 2 * x2 ** 2) / (240 * E * J) * (7 - 9 * (x2 / L2) + 2 * (x2 / L2) ** 3))\n",
    "\n",
    "fmax1 = np.max(f1)\n",
    "imax1 = np.argmax(f1)\n",
    "xmax1 = x1[imax1]\n",
    "\n",
    "fmax2 = np.max(f2)\n",
    "imax2 = np.argmax(f2)\n",
    "xmax2 = x2[imax2]\n",
    "\n",
    "print(\"L1 = 5000\")\n",
    "print(\"fmax1:\", fmax1)\n",
    "print(\"imax1:\", imax1)\n",
    "print(\"xmax1:\", xmax1)\n",
    "\n",
    "print(\"\\nL2 = 5e3\")\n",
    "print(\"fmax2:\", fmax2)\n",
    "print(\"imax2:\", imax2)\n",
    "print(\"xmax2:\", xmax2)\n",
    "\n",
    "plt.plot(x1, f1, label=\"integer\")\n",
    "plt.plot(x2, f2, label=\"Float\")\n",
    "plt.legend();"
   ]
  },
  {
   "cell_type": "code",
   "execution_count": null,
   "metadata": {},
   "outputs": [],
   "source": []
  }
 ],
 "metadata": {
  "kernelspec": {
   "display_name": "base",
   "language": "python",
   "name": "python3"
  },
  "language_info": {
   "codemirror_mode": {
    "name": "ipython",
    "version": 3
   },
   "file_extension": ".py",
   "mimetype": "text/x-python",
   "name": "python",
   "nbconvert_exporter": "python",
   "pygments_lexer": "ipython3",
   "version": "3.12.7"
  }
 },
 "nbformat": 4,
 "nbformat_minor": 2
}
