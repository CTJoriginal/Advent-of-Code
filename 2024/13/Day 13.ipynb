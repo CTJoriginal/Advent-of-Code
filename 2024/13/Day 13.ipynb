{
 "cells": [
  {
   "cell_type": "markdown",
   "metadata": {},
   "source": [
    "# 13. Claw Contraption\n",
    "\n",
    "Solving this should give a result:\n",
    "\n",
    "$$\n",
    "\\begin{bmatrix}\n",
    "x_1 \\\\\n",
    "y_1\n",
    "\\end{bmatrix} A +\n",
    "\\begin{bmatrix}\n",
    "x_2 \\\\\n",
    "y_2\n",
    "\\end{bmatrix} B =\n",
    "\\begin{bmatrix}\n",
    "x \\\\\n",
    "y\n",
    "\\end{bmatrix}\n",
    "$$\n",
    "\n",
    "$$A = \\frac{x_2 y - x y_2}{x_2 y_1 - x_1 y_2} \\ \\ \\text{ and } \\ \\  B = \\frac{-x_1 y + x y_1}{x_2 y_1 - x_1 y_2}$$"
   ]
  },
  {
   "cell_type": "markdown",
   "metadata": {},
   "source": [
    "To press button `A`, you need 3 tokens, to press button `B`, you only need one token."
   ]
  },
  {
   "cell_type": "markdown",
   "metadata": {},
   "source": [
    "```c\n",
    "Button A: X+94, Y+34\n",
    "Button B: X+22, Y+67\n",
    "Prize: X=8400, Y=5400\n",
    "```"
   ]
  },
  {
   "cell_type": "code",
   "execution_count": 18,
   "metadata": {},
   "outputs": [
    {
     "name": "stdout",
     "output_type": "stream",
     "text": [
      "Part 1: 31552\n",
      "Part 2: 95273925552482\n"
     ]
    }
   ],
   "source": [
    "import re\n",
    "\n",
    "data = open(\"input.txt\", \"r\").read().split(\"\\n\\n\")\n",
    "\n",
    "tokensNeeded1 = 0\n",
    "tokensNeeded2 = 0\n",
    "\n",
    "for machine in data:\n",
    "    x1, y1, x2, y2, x, y = list(map(int, re.findall(r\"(\\d+)\", machine))) \n",
    "    \n",
    "    ### PART 1 ###\n",
    "    A = (x2*y - x*y2)/(x2*y1-x1*y2)\n",
    "    B = (-x1*y + x*y1)/(x2*y1-x1*y2)\n",
    "    \n",
    "    if A % 1 == 0 and B % 1 == 0:\n",
    "        tokensNeeded1 += A * 3 + B * 1\n",
    "    \n",
    "\n",
    "    ### PART 2 ###\n",
    "    x += 10000000000000\n",
    "    y += 10000000000000\n",
    "\n",
    "    A = (x2*y - x*y2)/(x2*y1-x1*y2)\n",
    "    B = (-x1*y + x*y1)/(x2*y1-x1*y2)\n",
    "    \n",
    "    if A % 1 == 0 and B % 1 == 0:\n",
    "        tokensNeeded2 += A * 3 + B * 1\n",
    "    \n",
    "\n",
    "print(\"Part 1:\", int(tokensNeeded1))\n",
    "print(\"Part 2:\", int(tokensNeeded2))"
   ]
  }
 ],
 "metadata": {
  "kernelspec": {
   "display_name": "base",
   "language": "python",
   "name": "python3"
  },
  "language_info": {
   "codemirror_mode": {
    "name": "ipython",
    "version": 3
   },
   "file_extension": ".py",
   "mimetype": "text/x-python",
   "name": "python",
   "nbconvert_exporter": "python",
   "pygments_lexer": "ipython3",
   "version": "3.11.5"
  }
 },
 "nbformat": 4,
 "nbformat_minor": 2
}
