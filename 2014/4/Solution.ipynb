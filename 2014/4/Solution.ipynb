{
 "cells": [
  {
   "cell_type": "code",
   "execution_count": 3,
   "metadata": {},
   "outputs": [
    {
     "name": "stdout",
     "output_type": "stream",
     "text": [
      "Part 1: 346386\n",
      "Part 1: 405262\n",
      "Part 1: 3200270\n",
      "Part 1: 6251728\n",
      "Part 1: 6793663\n",
      "Part 1: 8538490\n",
      "Part 1: 8726309\n",
      "Part 1: 9648991\n",
      "Part 1: 9958218\n",
      "Part 2: 9958218\n",
      "MD5 Hash: 00000094434e1914548b3a1af245fb27\n"
     ]
    }
   ],
   "source": [
    "import hashlib\n",
    "  \n",
    "key = open(\"input.txt\").read()\n",
    "\n",
    "# Calculate MD5 hash\n",
    "\n",
    "i = 0\n",
    "while True:\n",
    "    i += 1\n",
    "    hash_md5 = hashlib.md5(f\"{key}{i}\".encode()).hexdigest()\n",
    "    if hash_md5.startswith(\"00000\"):\n",
    "        print(\"Part 1:\", i)\n",
    "    if hash_md5.startswith(\"000000\"):\n",
    "        print(\"Part 2:\", i)\n",
    "        break\n",
    "\n",
    "print(\"MD5 Hash:\", hash_md5)\n"
   ]
  },
  {
   "cell_type": "code",
   "execution_count": null,
   "metadata": {},
   "outputs": [],
   "source": []
  }
 ],
 "metadata": {
  "kernelspec": {
   "display_name": "base",
   "language": "python",
   "name": "python3"
  },
  "language_info": {
   "codemirror_mode": {
    "name": "ipython",
    "version": 3
   },
   "file_extension": ".py",
   "mimetype": "text/x-python",
   "name": "python",
   "nbconvert_exporter": "python",
   "pygments_lexer": "ipython3",
   "version": "3.12.7"
  }
 },
 "nbformat": 4,
 "nbformat_minor": 2
}
