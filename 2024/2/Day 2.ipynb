{
 "cells": [
  {
   "cell_type": "code",
   "execution_count": null,
   "metadata": {},
   "outputs": [
    {
     "name": "stdout",
     "output_type": "stream",
     "text": [
      "Solution 1:  2\n"
     ]
    }
   ],
   "source": [
    "import numpy as np\n",
    "\n",
    "data = open(\"input.txt\", \"r\")\n",
    "\n",
    "safe_count = 0\n",
    "\n",
    "def ComputeDmap(report):\n",
    "    return np.array([report[i+1] - report[i] for i in range(len(report) -1)])\n",
    "\n",
    "def CheckSafe(difference_map):\n",
    "    return (np.all(difference_map > 0) or np.all(difference_map < 0)) and (np.all(np.abs(difference_map) <= 3))\n",
    "\n",
    "# Map difference between all elements of report\n",
    "for line in data: # For each line\n",
    "    report = np.fromstring(line, sep=' ') # Convert to np array\n",
    "    difference_map = ComputeDmap(report)\n",
    "    # Criteria: \n",
    "    # - All values are either ascending or descending\n",
    "    # - Difference must be at most 3 and at least 1\n",
    "\n",
    "    if CheckSafe(difference_map):\n",
    "        safe_count += 1\n",
    "\n",
    "print(\"Solution 1: \", safe_count)\n"
   ]
  },
  {
   "cell_type": "code",
   "execution_count": null,
   "metadata": {},
   "outputs": [
    {
     "name": "stdout",
     "output_type": "stream",
     "text": [
      "Solution 2:  428\n"
     ]
    }
   ],
   "source": [
    "data = open(\"input.txt\", \"r\")\n",
    "\n",
    "safe_count = 0\n",
    "# Map difference between all elements of report\n",
    "for line in data: # For each line\n",
    "    org_report = np.fromstring(line, sep=' ') # Convert to np array\n",
    "    # if (np.all(dmap > 0) or np.all(dmap < 0)) and (np.all(np.abs(dmap) <= 3)):\n",
    "    #     safe_count += 1\n",
    "    #     continue\n",
    "\n",
    "    for i in range(len(org_report)):\n",
    "        report = np.delete(org_report, i)\n",
    "        difference_map = ComputeDmap(report)\n",
    "        \n",
    "        safe = (np.all(difference_map > 0) or np.all(difference_map < 0)) and (np.all(np.abs(difference_map) <= 3))\n",
    "        \n",
    "        if safe:\n",
    "            safe_count += 1\n",
    "            break\n",
    "\n",
    "    \n",
    "print(\"Solution 2: \", safe_count)\n"
   ]
  }
 ],
 "metadata": {
  "kernelspec": {
   "display_name": "base",
   "language": "python",
   "name": "python3"
  },
  "language_info": {
   "codemirror_mode": {
    "name": "ipython",
    "version": 3
   },
   "file_extension": ".py",
   "mimetype": "text/x-python",
   "name": "python",
   "nbconvert_exporter": "python",
   "pygments_lexer": "ipython3",
   "version": "3.11.5"
  }
 },
 "nbformat": 4,
 "nbformat_minor": 2
}
