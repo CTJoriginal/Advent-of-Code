{
 "cells": [
  {
   "cell_type": "markdown",
   "metadata": {},
   "source": [
    "# 12. Garden groups\n",
    "\n",
    "How many fences do you need to fence the gardens?\n",
    "\n",
    "Price of fence is $\\text{area of plant} \\cdot \\text{number of fences}$\n",
    "\n",
    "Also, to clarify, **price for each region is counted separately**!"
   ]
  },
  {
   "cell_type": "code",
   "execution_count": 48,
   "metadata": {},
   "outputs": [
    {
     "name": "stdout",
     "output_type": "stream",
     "text": [
      "\n",
      "(array([0, 4, 5, 7, 8], dtype=int64),)\n",
      "(array([0, 2, 4, 6, 8], dtype=int64),)\n",
      "(array([0, 1, 2, 4, 6, 8], dtype=int64),)\n",
      "(array([0, 2, 4, 6, 8], dtype=int64),)\n",
      "4\n",
      "\n",
      "(array([], dtype=int64),)\n",
      "(array([0], dtype=int64),)\n",
      "(array([0], dtype=int64),)\n",
      "(array([0], dtype=int64),)\n",
      "4\n",
      "\n",
      "(array([], dtype=int64),)\n",
      "(array([0], dtype=int64),)\n",
      "(array([0], dtype=int64),)\n",
      "(array([0], dtype=int64),)\n",
      "4\n",
      "Part 1 1184\n",
      "Part 2 144\n"
     ]
    },
    {
     "data": {
      "image/png": "[encoded data removed]",
      "text/plain": [
       "<Figure size 640x480 with 2 Axes>"
      ]
     },
     "metadata": {},
     "output_type": "display_data"
    }
   ],
   "source": [
    "import numpy as np\n",
    "import matplotlib.pyplot as plt\n",
    "\n",
    "\n",
    "def direction(i):\n",
    "    return np.array([np.round(np.sin(np.pi * i * 1/2)), np.round(np.cos(np.pi * i * 1/2))], dtype = int)\n",
    "\n",
    "def FenceCounter(coordinate):\n",
    "    fenceCount = 0\n",
    "    for i in range(0, 4):\n",
    "        xc, yc = coordinate\n",
    "        xi, yi = np.array(coordinate) + direction(i)\n",
    "\n",
    "        if 0 <= xi < len(data) and 0 <= yi < len(data[0]): # Check if cout of bounds\n",
    "            if data[xc][yc] == data[xi][yi]:\n",
    "                continue\n",
    "\n",
    "        fenceCount += 1\n",
    "\n",
    "    return fenceCount\n",
    "\n",
    "def AreaFinder(x, y, visited = set(), edgesFound = set()):\n",
    "    if (x, y) in visited:\n",
    "        return visited, edgesFound\n",
    "    visited.add((x, y))\n",
    "\n",
    "    for i in range(0, 4):\n",
    "        xi, yi = np.array([x, y]) + direction(i)\n",
    "\n",
    "        if not (0 <= xi < len(data) and 0 <= yi < len(data[0])): # Check if out of bounds\n",
    "            edgesFound.add((x, y, i)) # Store on which side a fence was found\n",
    "            continue\n",
    "\n",
    "        if data[x][y] == data[xi][yi]: # Check if next plant is same as current one           \n",
    "            vis, edges = AreaFinder(xi, yi, visited, set())\n",
    "            visited.update(vis)\n",
    "            edgesFound.update(edges)\n",
    "        else:\n",
    "            edgesFound.add((x, y, i)) # Store on which side a fence was found\n",
    "\n",
    "    return visited, edgesFound # Return set of all visited cells\n",
    "\n",
    "data = [[cell for cell in line.strip(\"\\n\")] for line in open(\"test.txt\").readlines()]\n",
    "\n",
    "plt.figure()\n",
    "\n",
    "AllVisitedCells = set()\n",
    "FencePrice1 = 0\n",
    "FencePrice2 = 0\n",
    "\n",
    "for x in range(len(data)):\n",
    "    for y in range(len(data[0])):\n",
    "        if (x, y) not in AllVisitedCells:\n",
    "            explored, edgesFound = AreaFinder(x, y, set(), set()) # its co'uicial to create new sets because otherwise they dont get cleared between calls!\n",
    "            \n",
    "            # for coordinate in explored:\n",
    "            #     plt.text(coordinate[1], coordinate[0], str(len(edgesFound)), color=\"white\", ha=\"center\", va=\"center\")\n",
    "            \n",
    "\n",
    "            ### PART 1 ###\n",
    "            FencePrice1 += len(explored) * len(edgesFound)\n",
    "\n",
    "            ### PART2 ###\n",
    "            sideCount = 0\n",
    "            print()\n",
    "\n",
    "            for i in range(4):\n",
    "                edgArr = np.array(list(edgesFound))\n",
    "                edges = edgArr[np.where(edgArr[:, 2] == i)] # Obtain all edges with same orientation\n",
    "                direct = direction(i)\n",
    "\n",
    "                # Group together consecutive points in edges\n",
    "                sorted_edges = edges[np.argsort(edges[:, 1])]  # Sort edges by the second column\n",
    "                consecutive = np.diff(sorted_edges[:, abs(direction(i)[0])]) == 1  # Check if consecutive points\n",
    "\n",
    "                sideCount += len(np.where(consecutive == True))\n",
    "\n",
    "                # print(direct)\n",
    "                print(np.where(consecutive == True))\n",
    "                # print()\n",
    "            print(sideCount)\n",
    "            FencePrice2 += len(explored) * sideCount\n",
    "\n",
    "            # Plot\n",
    "            center_x = sum(coord[0] for coord in explored) / len(explored)\n",
    "            center_y = sum(coord[1] for coord in explored) / len(explored)\n",
    "            plt.text(center_y, center_x, sideCount, color='Black', fontsize=15, ha='center', va='center')\n",
    "                        \n",
    "            AllVisitedCells.update(explored) \n",
    "\n",
    "print(\"Part 1\", FencePrice1)\n",
    "print(\"Part 2\", FencePrice2)\n",
    "\n",
    "Data_int = [[ord(cell) for cell in row] for row in data] # Convert characters to ASCII codes (for visualization)\n",
    "\n",
    "# plt.figure(figsize=(15, 15))\n",
    "plt.imshow(Data_int, cmap='Dark2')\n",
    "plt.colorbar()\n",
    "plt.show()"
   ]
  },
  {
   "cell_type": "code",
   "execution_count": null,
   "metadata": {},
   "outputs": [
    {
     "ename": "ImportError",
     "evalue": "cannot import name 'convolve2D' from 'scipy' (c:\\Users\\cenet\\anaconda3\\Lib\\site-packages\\scipy\\__init__.py)",
     "output_type": "error",
     "traceback": [
      "\u001b[1;31m---------------------------------------------------------------------------\u001b[0m",
      "\u001b[1;31mImportError\u001b[0m                               Traceback (most recent call last)",
      "Cell \u001b[1;32mIn[39], line 1\u001b[0m\n\u001b[1;32m----> 1\u001b[0m \u001b[38;5;28;01mfrom\u001b[39;00m \u001b[38;5;21;01mscipy\u001b[39;00m \u001b[38;5;28;01mimport\u001b[39;00m convolve2D\n",
      "\u001b[1;31mImportError\u001b[0m: cannot import name 'convolve2D' from 'scipy' (c:\\Users\\cenet\\anaconda3\\Lib\\site-packages\\scipy\\__init__.py)"
     ]
    }
   ],
   "source": [
    "from scipy.signal import convolve2d\n",
    "\n",
    "\n",
    "\n"
   ]
  }
 ],
 "metadata": {
  "kernelspec": {
   "display_name": "base",
   "language": "python",
   "name": "python3"
  },
  "language_info": {
   "codemirror_mode": {
    "name": "ipython",
    "version": 3
   },
   "file_extension": ".py",
   "mimetype": "text/x-python",
   "name": "python",
   "nbconvert_exporter": "python",
   "pygments_lexer": "ipython3",
   "version": "3.11.5"
  }
 },
 "nbformat": 4,
 "nbformat_minor": 2
}
