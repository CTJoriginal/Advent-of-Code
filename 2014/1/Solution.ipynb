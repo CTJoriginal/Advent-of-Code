{
 "cells": [
  {
   "cell_type": "code",
   "execution_count": 8,
   "metadata": {},
   "outputs": [
    {
     "name": "stdout",
     "output_type": "stream",
     "text": [
      "Part 1: 74\n",
      "Part 2: 1795\n"
     ]
    }
   ],
   "source": [
    "import re\n",
    "\n",
    "data = open(\"input.txt\").read()\n",
    "\n",
    "print(\"Part 1:\", len(re.findall(r\"\\(\", data)) - len(re.findall(r\"\\)\", data)))\n",
    "\n",
    "pos = 0\n",
    "for i, inst in enumerate(data):\n",
    "    if inst == \"(\":\n",
    "        pos += 1\n",
    "    else:\n",
    "        pos -= 1\n",
    "        \n",
    "    if pos == -1:\n",
    "        print(\"Part 2:\", i+1)\n",
    "        break\n",
    "        \n",
    "        \n"
   ]
  },
  {
   "cell_type": "code",
   "execution_count": null,
   "metadata": {},
   "outputs": [],
   "source": []
  }
 ],
 "metadata": {
  "kernelspec": {
   "display_name": "base",
   "language": "python",
   "name": "python3"
  },
  "language_info": {
   "codemirror_mode": {
    "name": "ipython",
    "version": 3
   },
   "file_extension": ".py",
   "mimetype": "text/x-python",
   "name": "python",
   "nbconvert_exporter": "python",
   "pygments_lexer": "ipython3",
   "version": "3.12.7"
  }
 },
 "nbformat": 4,
 "nbformat_minor": 2
}
