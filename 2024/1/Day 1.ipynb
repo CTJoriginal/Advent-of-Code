{
 "cells": [
  {
   "cell_type": "code",
   "execution_count": 8,
   "metadata": {},
   "outputs": [
    {
     "name": "stdout",
     "output_type": "stream",
     "text": [
      "2367773\n"
     ]
    }
   ],
   "source": [
    "import numpy as np\n",
    "\n",
    "inp = np.loadtxt(\"input.txt\", dtype=int)\n",
    "list1 = np.sort(inp[:, 0])\n",
    "list2 = np.sort(inp[:, 1])\n",
    "\n",
    "total_dst = 0\n",
    "\n",
    "for index, var in enumerate(list1):\n",
    "    total_dst += np.abs(var - list2[index])\n",
    "    \n",
    "print(total_dst)    \n"
   ]
  },
  {
   "cell_type": "code",
   "execution_count": 21,
   "metadata": {},
   "outputs": [
    {
     "data": {
      "text/plain": [
       "21271939"
      ]
     },
     "execution_count": 21,
     "metadata": {},
     "output_type": "execute_result"
    }
   ],
   "source": [
    "counts = {}\n",
    "\n",
    "for i in list2:\n",
    "    if i not in counts:\n",
    "        counts[i] = 0\n",
    "    counts[i] += 1\n",
    "    \n",
    "counts\n",
    "\n",
    "\n",
    "sim_score = 0\n",
    "\n",
    "for i in list1:\n",
    "    if i in counts: sim_score += i * counts[i]\n",
    "\n",
    "sim_score\n",
    "        "
   ]
  }
 ],
 "metadata": {
  "kernelspec": {
   "display_name": "base",
   "language": "python",
   "name": "python3"
  },
  "language_info": {
   "codemirror_mode": {
    "name": "ipython",
    "version": 3
   },
   "file_extension": ".py",
   "mimetype": "text/x-python",
   "name": "python",
   "nbconvert_exporter": "python",
   "pygments_lexer": "ipython3",
   "version": "3.11.5"
  }
 },
 "nbformat": 4,
 "nbformat_minor": 2
}
