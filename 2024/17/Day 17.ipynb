{
 "cells": [
  {
   "cell_type": "markdown",
   "metadata": {},
   "source": [
    "# 16. Chronospatial Computer\n",
    "\n",
    "SImulate compuers output based on given instructions"
   ]
  },
  {
   "cell_type": "code",
   "execution_count": 10,
   "metadata": {},
   "outputs": [
    {
     "name": "stdout",
     "output_type": "stream",
     "text": [
      "729 0 0\n",
      "[0, 1, 5, 4, 3, 0]\n"
     ]
    }
   ],
   "source": [
    "import re\n",
    "import numpy as np\n",
    "import matplotlib.pyplot as plt\n",
    "import networkx as nx\n",
    "\n",
    "data = open(\"test.txt\", \"r\").read()\n",
    "# Register A: 729\n",
    "A = int(re.findall(r\"A: (\\d+)\", data)[0])\n",
    "B = int(re.findall(r\"B: (\\d+)\", data)[0])\n",
    "C = int(re.findall(r\"C: (\\d+)\", data)[0])\n",
    "\n",
    "program = list(map(int, re.findall(r\"Program: (.*)\", data)[0].split(',')))\n",
    "\n",
    "print(A, B , C)\n",
    "print(program)\n",
    "\n"
   ]
  }
 ],
 "metadata": {
  "kernelspec": {
   "display_name": "base",
   "language": "python",
   "name": "python3"
  },
  "language_info": {
   "codemirror_mode": {
    "name": "ipython",
    "version": 3
   },
   "file_extension": ".py",
   "mimetype": "text/x-python",
   "name": "python",
   "nbconvert_exporter": "python",
   "pygments_lexer": "ipython3",
   "version": "3.11.5"
  }
 },
 "nbformat": 4,
 "nbformat_minor": 2
}
