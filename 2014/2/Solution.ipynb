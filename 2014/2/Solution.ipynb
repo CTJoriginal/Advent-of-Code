{
 "cells": [
  {
   "cell_type": "code",
   "execution_count": 9,
   "metadata": {},
   "outputs": [
    {
     "name": "stdout",
     "output_type": "stream",
     "text": [
      "Part 1: 1606483\n",
      "Part 2: 3842356\n"
     ]
    }
   ],
   "source": [
    "import re\n",
    "\n",
    "data = open(\"input.txt\").readlines()\n",
    "\n",
    "Area = 0\n",
    "Ribbon = 0\n",
    "\n",
    "for box in data:\n",
    "    w, l, h = list(map(int, re.findall(r\"\\d+\", box)))\n",
    "    A = [w * l, l * h, w * h]\n",
    "    Area += 2 * sum(A) + min(A)\n",
    "    \n",
    "    P = [x * 2 for x in [w + l, w + h, l + h]]\n",
    "    Ribbon += min(P) + w * l * h    \n",
    "    \n",
    "print(\"Part 1:\", Area)\n",
    "print(\"Part 2:\", Ribbon)\n",
    "\n",
    "    \n"
   ]
  },
  {
   "cell_type": "code",
   "execution_count": 8,
   "metadata": {},
   "outputs": [
    {
     "data": {
      "text/plain": [
       "[4, 6, 8]"
      ]
     },
     "execution_count": 8,
     "metadata": {},
     "output_type": "execute_result"
    }
   ],
   "source": [
    "[x * 2 for x in [2, 3, 4]]"
   ]
  },
  {
   "cell_type": "code",
   "execution_count": null,
   "metadata": {},
   "outputs": [],
   "source": []
  }
 ],
 "metadata": {
  "kernelspec": {
   "display_name": "base",
   "language": "python",
   "name": "python3"
  },
  "language_info": {
   "codemirror_mode": {
    "name": "ipython",
    "version": 3
   },
   "file_extension": ".py",
   "mimetype": "text/x-python",
   "name": "python",
   "nbconvert_exporter": "python",
   "pygments_lexer": "ipython3",
   "version": "3.12.7"
  }
 },
 "nbformat": 4,
 "nbformat_minor": 2
}
