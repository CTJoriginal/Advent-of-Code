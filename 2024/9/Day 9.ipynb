{
 "cells": [
  {
   "cell_type": "markdown",
   "metadata": {},
   "source": [
    "# 9. Disk Fragmenter\n",
    "\n",
    "`2333133121414131402`\n",
    "file - free space - file - ..."
   ]
  },
  {
   "cell_type": "markdown",
   "metadata": {},
   "source": [
    "for each blank space, move file from lastmost position to that space"
   ]
  },
  {
   "cell_type": "code",
   "execution_count": 6,
   "metadata": {},
   "outputs": [
    {
     "name": "stdout",
     "output_type": "stream",
     "text": [
      "0099811188827773336446555566\n",
      "0099811188827773336446555566\n",
      "Part 1: 1928\n"
     ]
    }
   ],
   "source": [
    "import numpy as np\n",
    "\n",
    "with open(\"test.txt\", \"r\") as file:\n",
    "    data = [int(num) for num in file.read()]\n",
    "\n",
    "fileArray = []\n",
    "\n",
    "index = 0\n",
    "freeSpace = False\n",
    "\n",
    "for block in data:\n",
    "    for cnt in range(block):\n",
    "        if freeSpace:\n",
    "            fileArray.append(None)\n",
    "        else:\n",
    "            fileArray.append(index)\n",
    "    \n",
    "    if not freeSpace:\n",
    "        index += 1\n",
    "    \n",
    "    freeSpace = not freeSpace\n",
    "\n",
    "\n",
    "fileArrayP1 = fileArray.copy()\n",
    "\n",
    "index = -1\n",
    "while True:\n",
    "    index += 1\n",
    "\n",
    "    if fileArrayP1[index] != None and not index >= len(fileArrayP1)-1:\n",
    "        if index == len(fileArrayP1)-2:\n",
    "            break\n",
    "        continue\n",
    "    \n",
    "    while True:\n",
    "        fileIndex = fileArrayP1.pop()\n",
    "        if fileIndex != None:\n",
    "            break\n",
    "    \n",
    "    if index >= len(fileArrayP1)-1:\n",
    "        fileArrayP1.append(fileIndex)\n",
    "        break\n",
    "        \n",
    "    fileArrayP1[index] = fileIndex\n",
    "    \n",
    "    \n",
    "\n",
    "fileString = \"\".join(str(x) if x is not None else \".\" for x in fileArrayP1)\n",
    "print(fileString)\n",
    "print(\"0099811188827773336446555566\")\n",
    "\n",
    "checksum = 0\n",
    "for z, y in enumerate(fileArrayP1):\n",
    "    checksum += z * y\n",
    "\n",
    "print(\"Part 1:\", checksum)"
   ]
  },
  {
   "cell_type": "code",
   "execution_count": null,
   "metadata": {},
   "outputs": [
    {
     "name": "stdout",
     "output_type": "stream",
     "text": [
      "{0: 2, 1: 3, 2: 1, 3: 3, 4: 2, 5: 4, 6: 4, 7: 3, 8: 4, 9: 2}\n",
      "{0: 3, 1: 3, 2: 3, 3: 1, 4: 1, 5: 1, 6: 1, 7: 1, 8: 0}\n"
     ]
    }
   ],
   "source": [
    "import numpy as np\n",
    "\n",
    "with open(\"test.txt\", \"r\") as file:\n",
    "    data = [int(num) for num in file.read()]\n",
    "\n",
    "files = {}\n",
    "empty = {}\n",
    "\n",
    "WriteFiles = True\n",
    "index = 0\n",
    "for block in data:\n",
    "    if not WriteFiles:\n",
    "        empty[index] = block\n",
    "    else:\n",
    "        files[index] = block\n",
    "    \n",
    "\n",
    "    if not WriteFiles:\n",
    "        index += 1\n",
    "    \n",
    "    WriteFiles = not WriteFiles\n",
    "\n",
    "print(files)\n",
    "print(empty)\n",
    "\n"
   ]
  },
  {
   "cell_type": "code",
   "execution_count": null,
   "metadata": {},
   "outputs": [],
   "source": []
  }
 ],
 "metadata": {
  "kernelspec": {
   "display_name": "base",
   "language": "python",
   "name": "python3"
  },
  "language_info": {
   "codemirror_mode": {
    "name": "ipython",
    "version": 3
   },
   "file_extension": ".py",
   "mimetype": "text/x-python",
   "name": "python",
   "nbconvert_exporter": "python",
   "pygments_lexer": "ipython3",
   "version": "3.11.5"
  }
 },
 "nbformat": 4,
 "nbformat_minor": 2
}
