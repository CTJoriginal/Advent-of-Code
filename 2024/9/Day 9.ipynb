{
 "cells": [
  {
   "cell_type": "markdown",
   "metadata": {},
   "source": [
    "# 9. Disk Fragmenter\n",
    "\n",
    "`2333133121414131402`\n",
    "file - free space - file - ..."
   ]
  },
  {
   "cell_type": "markdown",
   "metadata": {},
   "source": [
    "for each blank space, move file from lastmost position to that space"
   ]
  },
  {
   "cell_type": "code",
   "execution_count": null,
   "metadata": {},
   "outputs": [
    {
     "name": "stdout",
     "output_type": "stream",
     "text": [
      "0099811188827773336446555566\n",
      "0099811188827773336446555566\n",
      "Part 1: 1928\n"
     ]
    }
   ],
   "source": [
    "import numpy as np\n",
    "\n",
    "with open(\"test.txt\", \"r\") as file:\n",
    "    data = [int(num) for num in file.read()]\n",
    "\n",
    "fileArray = []\n",
    "\n",
    "index = 0\n",
    "freeSpace = False\n",
    "\n",
    "for block in data:\n",
    "    for cnt in range(block):\n",
    "        if freeSpace:\n",
    "            fileArray.append(None)\n",
    "        else:\n",
    "            fileArray.append(index)\n",
    "    \n",
    "    if not freeSpace:\n",
    "        index += 1\n",
    "    \n",
    "    freeSpace = not freeSpace\n",
    "\n",
    "\n",
    "fileArrayP1 = fileArray.copy()\n",
    "\n",
    "index = -1\n",
    "while True:\n",
    "    index += 1\n",
    "    if fileArrayP1[index] != None and not index >= len(fileArrayP1)-1:\n",
    "        if index == len(fileArrayP1)-2:\n",
    "            break\n",
    "        continue\n",
    "    \n",
    "    while True:\n",
    "        fileIndex = fileArrayP1.pop()\n",
    "        if fileIndex != None:\n",
    "            break\n",
    "    \n",
    "    if index >= len(fileArrayP1)-1:\n",
    "        fileArrayP1.append(fileIndex)\n",
    "        break\n",
    "        \n",
    "    fileArrayP1[index] = fileIndex\n",
    "\n",
    "fileString = \"\".join(str(x) if x is not None else \".\" for x in fileArrayP1)\n",
    "\n",
    "\n",
    "checksum = 0\n",
    "for z, y in enumerate(fileArrayP1):\n",
    "    checksum += z * y\n",
    "\n",
    "print(\"Part 1:\", checksum)\n",
    "\n",
    "\n"
   ]
  },
  {
   "cell_type": "code",
   "execution_count": 1,
   "metadata": {},
   "outputs": [
    {
     "ename": "NameError",
     "evalue": "name 'fileArray' is not defined",
     "output_type": "error",
     "traceback": [
      "\u001b[1;31m---------------------------------------------------------------------------\u001b[0m",
      "\u001b[1;31mNameError\u001b[0m                                 Traceback (most recent call last)",
      "Cell \u001b[1;32mIn[1], line 14\u001b[0m\n\u001b[0;32m     12\u001b[0m         fileArray\u001b[38;5;241m.\u001b[39mappend(\u001b[38;5;28;01mNone\u001b[39;00m)\n\u001b[0;32m     13\u001b[0m     \u001b[38;5;28;01melse\u001b[39;00m:\n\u001b[1;32m---> 14\u001b[0m         fileArray\u001b[38;5;241m.\u001b[39mappend(index)\n\u001b[0;32m     16\u001b[0m \u001b[38;5;28;01mif\u001b[39;00m \u001b[38;5;129;01mnot\u001b[39;00m freeSpace:\n\u001b[0;32m     17\u001b[0m     index \u001b[38;5;241m+\u001b[39m\u001b[38;5;241m=\u001b[39m \u001b[38;5;241m1\u001b[39m\n",
      "\u001b[1;31mNameError\u001b[0m: name 'fileArray' is not defined"
     ]
    }
   ],
   "source": [
    "import numpy as np\n",
    "\n",
    "with open(\"test.txt\", \"r\") as file:\n",
    "    data = [int(num) for num in file.read()]\n",
    "\n",
    "index = 0\n",
    "freeSpace = False\n",
    "\n",
    "for block in data:\n",
    "    for cnt in range(block):\n",
    "        if freeSpace:\n",
    "            fileArray.append(None)\n",
    "        else:\n",
    "            fileArray.append(index)\n",
    "    \n",
    "    if not freeSpace:\n",
    "        index += 1\n",
    "    \n",
    "    freeSpace = not freeSpace\n",
    "\n",
    "\n",
    "print (fileArray)\n",
    "\n",
    "selectData = [None, None]\n",
    "\n",
    "for i in range(len(fileArray), 0):\n",
    "    print(i)\n",
    "    if fileArray[i] != None:\n",
    "        selectData[1] = i\n",
    "    if fileArray[i] != None:\n",
    "        selectData[0] = i\n",
    "\n",
    "    if selectData[0] != None and selectData[1] != None: \n",
    "        print(selectData)\n",
    "        selectData = [None, None]\n",
    "        # for i in range(0, len(fileArray)):\n",
    "        #     # Find first space large enough to fit file"
   ]
  },
  {
   "cell_type": "code",
   "execution_count": null,
   "metadata": {},
   "outputs": [],
   "source": []
  }
 ],
 "metadata": {
  "kernelspec": {
   "display_name": "base",
   "language": "python",
   "name": "python3"
  },
  "language_info": {
   "codemirror_mode": {
    "name": "ipython",
    "version": 3
   },
   "file_extension": ".py",
   "mimetype": "text/x-python",
   "name": "python",
   "nbconvert_exporter": "python",
   "pygments_lexer": "ipython3",
   "version": "3.11.5"
  }
 },
 "nbformat": 4,
 "nbformat_minor": 2
}
