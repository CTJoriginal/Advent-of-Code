{
 "cells": [
  {
   "cell_type": "code",
   "execution_count": null,
   "metadata": {},
   "outputs": [
    {
     "name": "stdout",
     "output_type": "stream",
     "text": [
      "Solution 1:  161\n",
      "[('2', '4', '', ''), ('', '', '', \"don't()\"), ('5', '5', '', ''), ('11', '8', '', ''), ('', '', 'do()', ''), ('8', '5', '', '')]\n",
      "Solution 2:  48\n"
     ]
    }
   ],
   "source": [
    "import re\n",
    "\n",
    "memory = open(\"input.txt\", \"r\").read()\n",
    "\n",
    "\n",
    "# Regex returns in form:\n",
    "# ('2', '55')\n",
    "muls = re.findall(\"mul\\((\\d+),(\\d+)\\)\", memory)\n",
    "\n",
    "result1 = sum([int(x) * int(y) for x, y in muls]) \n",
    "print(\"Solution 1: \", result1)\n",
    "\n",
    "### PART 2 ###\n",
    "\n",
    "# Regex returns in form:\n",
    "# [('2', '4', '', ''), \n",
    "# ('', '', '', \"don't()\"), \n",
    "# ('', '', 'do()', '')]\n",
    "\n",
    "muls = re.findall(\"mul\\((\\d+),(\\d+)\\)|(do\\(\\))|(don't\\(\\))\", memory)\n",
    "print(muls)\n",
    "enabled = True\n",
    "result2 = 0\n",
    "\n",
    "for x, y, En, Dis in muls:\n",
    "    if En: \n",
    "        enabled = True\n",
    "        continue\n",
    "    if Dis: \n",
    "        enabled = False\n",
    "        continue\n",
    "    \n",
    "    if enabled:\n",
    "        result2 += int(x) * int(y)\n",
    "\n",
    "print(\"Solution 2: \", result2)"
   ]
  }
 ],
 "metadata": {
  "kernelspec": {
   "display_name": "base",
   "language": "python",
   "name": "python3"
  },
  "language_info": {
   "codemirror_mode": {
    "name": "ipython",
    "version": 3
   },
   "file_extension": ".py",
   "mimetype": "text/x-python",
   "name": "python",
   "nbconvert_exporter": "python",
   "pygments_lexer": "ipython3",
   "version": "3.11.5"
  }
 },
 "nbformat": 4,
 "nbformat_minor": 2
}
