{
 "cells": [
  {
   "cell_type": "markdown",
   "metadata": {},
   "source": [
    "# 9. Disk Fragmenter\n",
    "\n",
    "`2333133121414131402`\n",
    "file - free space - file - ..."
   ]
  },
  {
   "cell_type": "markdown",
   "metadata": {},
   "source": [
    "for each blank space, move file from lastmost position to that space"
   ]
  },
  {
   "cell_type": "code",
   "execution_count": null,
   "metadata": {},
   "outputs": [
    {
     "name": "stdout",
     "output_type": "stream",
     "text": [
      "Part 1: 1928\n"
     ]
    }
   ],
   "source": [
    "import numpy as np\n",
    "\n",
    "with open(\"test.txt\", \"r\") as file:\n",
    "    data = [int(num) for num in file.read()]\n",
    "\n",
    "DiskString = []\n",
    "\n",
    "index = 0\n",
    "freeSpace = False\n",
    "\n",
    "for block in data:\n",
    "    for cnt in range(block):\n",
    "        if freeSpace:\n",
    "            DiskString.append(None)\n",
    "        else:\n",
    "            DiskString.append(index)\n",
    "    \n",
    "    if not freeSpace:\n",
    "        index += 1\n",
    "    \n",
    "    freeSpace = not freeSpace\n",
    "\n",
    "\n",
    "fileArrayP1 = DiskString.copy()\n",
    "\n",
    "index = -1\n",
    "while True:\n",
    "    index += 1\n",
    "    if fileArrayP1[index] != None and not index >= len(fileArrayP1)-1:\n",
    "        if index == len(fileArrayP1)-2:\n",
    "            break\n",
    "        continue\n",
    "    \n",
    "    while True:\n",
    "        fileIndex = fileArrayP1.pop()\n",
    "        if fileIndex != None:\n",
    "            break\n",
    "    \n",
    "    if index >= len(fileArrayP1)-1:\n",
    "        fileArrayP1.append(fileIndex)\n",
    "        break\n",
    "        \n",
    "    fileArrayP1[index] = fileIndex\n",
    "\n",
    "fileString = \"\".join(str(x) if x is not None else \".\" for x in fileArrayP1)\n",
    "\n",
    "\n",
    "checksum = 0\n",
    "for z, y in enumerate(fileArrayP1):\n",
    "    checksum += z * y\n",
    "\n",
    "print(\"Part 1:\", checksum)\n",
    "\n",
    "\n"
   ]
  },
  {
   "cell_type": "code",
   "execution_count": 2,
   "metadata": {},
   "outputs": [
    {
     "name": "stdout",
     "output_type": "stream",
     "text": [
      "Part 2: 227875663785\n"
     ]
    }
   ],
   "source": [
    "import numpy as np\n",
    "import re\n",
    "\n",
    "with open(\"input.txt\", \"r\") as file:\n",
    "    data = [int(num) for num in file.read()]\n",
    "\n",
    "index = 0\n",
    "freeSpace = False\n",
    "\n",
    "Files = data[::2]\n",
    "DiskString = \"\"\n",
    "for block in data:\n",
    "    for cnt in range(block):\n",
    "        if freeSpace:\n",
    "            DiskString += \".\"\n",
    "        else:\n",
    "            DiskString += str(index)\n",
    "    \n",
    "    \n",
    "    if not freeSpace:\n",
    "        index += 1\n",
    "    \n",
    "    freeSpace = not freeSpace\n",
    "\n",
    "# print(DiskString)\n",
    "# print(Files)\n",
    "\n",
    "# Convert DiskString to a list of characters for modification\n",
    "DiskString = list(DiskString)\n",
    "\n",
    "for i in range(index-1, 0, -1):\n",
    "    regex = f\"{i}+\"\n",
    "    matches = re.finditer(regex, \"\".join(DiskString))\n",
    "    \n",
    "    for match in matches:\n",
    "        start, end = match.span()\n",
    "        length = len(match.group())\n",
    "        matched_group = match.group()\n",
    "        # print(start, end, matched_group)\n",
    "    \n",
    "    Blanks = re.finditer(f\"\\\\.+\", \"\".join(DiskString))\n",
    "    \n",
    "    for blank in Blanks:\n",
    "        \n",
    "        if len(blank.group()) >= length and blank.start() < start:\n",
    "            DiskString[blank.start() : blank.start() + length] = list(str(i) * length)\n",
    "            DiskString[start : end] = \".\" * length\n",
    "            break\n",
    "        \n",
    "            \n",
    "    \n",
    "    # print(\"\".join(DiskString))\n",
    "\n",
    "\n",
    "# Convert DiskString back to a string\n",
    "DiskString = \"\".join(DiskString)\n",
    "\n",
    "checksum = sum([int(num) * i for i, num in enumerate(DiskString) if num != \".\"])\n",
    "print(\"Part 2:\", checksum)        \n",
    "    \n"
   ]
  },
  {
   "cell_type": "code",
   "execution_count": null,
   "metadata": {},
   "outputs": [],
   "source": []
  }
 ],
 "metadata": {
  "kernelspec": {
   "display_name": "base",
   "language": "python",
   "name": "python3"
  },
  "language_info": {
   "codemirror_mode": {
    "name": "ipython",
    "version": 3
   },
   "file_extension": ".py",
   "mimetype": "text/x-python",
   "name": "python",
   "nbconvert_exporter": "python",
   "pygments_lexer": "ipython3",
   "version": "3.12.7"
  }
 },
 "nbformat": 4,
 "nbformat_minor": 2
}
