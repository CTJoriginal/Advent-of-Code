{
 "cells": [
  {
   "cell_type": "markdown",
   "metadata": {},
   "source": [
    "# 11. Plutonian Pebbles\n",
    "\n",
    "You find stones that break physics. Based on what stone is engraved on them, each time you blink a stone does one of a following:\n",
    "- If the stone is engraved with the stone 0, it is replaced by a stone engraved with the number 1.\n",
    "- If the stone is engraved with a number that has an even number of digits, it is replaced by two stones. The left half of the digits are engraved on the new left stone, and the right half of the digits are engraved on the new right stone. (The new numbers don't keep extra leading zeroes: 1000 would become stones 10 and 0.)\n",
    "- If none of the other rules apply, the stone is replaced by a new stone; the old stone's number multiplied by 2024 is engraved on the new stone.\n",
    "\n",
    "How many stones do you have after blinking 25 tmes?"
   ]
  },
  {
   "cell_type": "code",
   "execution_count": 5,
   "metadata": {},
   "outputs": [
    {
     "name": "stdout",
     "output_type": "stream",
     "text": [
      "Part 1:  183646\n"
     ]
    },
    {
     "name": "stderr",
     "output_type": "stream",
     "text": [
      "C:\\Users\\cenet\\AppData\\Local\\Temp\\ipykernel_22508\\3254666136.py:16: RuntimeWarning: overflow encountered in scalar multiply\n",
      "  stonesAfterBlink.append((stone * 2024) % (2**63 - 1))  # Using a large prime number as modulus\n"
     ]
    }
   ],
   "source": [
    "import numpy as np\n",
    "\n",
    "def blink(stones):\n",
    "    stonesAfterBlink = []\n",
    "    for stone in stones:\n",
    "        if stone == 0:\n",
    "            stonesAfterBlink.append(1)            \n",
    "        elif len(str(stone)) % 2 == 0:\n",
    "            mid = len(str(stone)) // 2\n",
    "            stonesAfterBlink.append(int(str(stone)[:mid])) # Left stone\n",
    "            rightHalf = str(stone)[mid:].lstrip(\"0\")\n",
    "            if rightHalf == \"\":\n",
    "                rightHalf = \"0\"\n",
    "            stonesAfterBlink.append(int(rightHalf)) # Right stone without leading zeroes\n",
    "        else:\n",
    "            stonesAfterBlink.append((stone * 2024) % (2**63 - 1))  # Using a large prime number as modulus\n",
    "    \n",
    "    return stonesAfterBlink\n",
    "\n",
    "InitStones = np.loadtxt(\"input.txt\", dtype=int)\n",
    "\n",
    "stoneHistory = [InitStones]\n",
    "for i in range(25):\n",
    "    # print(stoneHistory[-1])\n",
    "    stoneHistory.append(blink(stoneHistory[-1]))\n",
    "\n",
    "print(\"Part 1: \", len(stoneHistory[-1]))"
   ]
  },
  {
   "cell_type": "markdown",
   "metadata": {},
   "source": [
    "I think the problem is that number gets sooo big python cant handle it!\n",
    "\n",
    "I browsed some memes on r/adventofcode and figured out that numbers eventually start repeating thamselves.\n",
    "Lets just obseerve changes to `17`\n",
    "\n",
    "`17 -> 1 7 -> 2024 14168`\n",
    "\n",
    "`2024 -> 20`\n",
    "\n",
    "`20 -> 2 0`    `0 -> 1`\n",
    "\n",
    "`2 -> 4048`\n",
    "\n",
    "`4048 -> 2024`"
   ]
  },
  {
   "cell_type": "code",
   "execution_count": 4,
   "metadata": {},
   "outputs": [
    {
     "name": "stdout",
     "output_type": "stream",
     "text": [
      "1       3 {253000: 1, 1: 1, 7: 1}\n",
      "2       4 {253: 1, 0: 1, 2024: 1, 14168: 1}\n",
      "3       5 {512072: 1, 1: 1, 20: 1, 24: 1, 28676032: 1}\n",
      "4       8 {512: 1, 72: 1, 2024: 1, 2: 1, 0: 1, 4: 1, 2867: 1, 6032: 1}\n",
      "5      12 {1036288: 1, 7: 1, 2: 1, 20: 1, 24: 1, 4048: 1, 1: 1, 8096: 1, 28: 1, 67: 1, 60: 1, 32: 1}\n",
      "6      15 {2097446912: 1, 14168: 1, 4048: 1, 2: 1, 0: 1, 4: 1, 40: 1, 48: 1, 2024: 1, 80: 1, 96: 1, 8: 1, 6: 1, 7: 1, 3: 1}\n",
      "\n",
      "Part 1:  49\n",
      "{2097446912: 1, 14168: 1, 4048: 1, 2: 1, 0: 1, 4: 1, 40: 1, 48: 1, 2024: 1, 80: 1, 96: 1, 8: 1, 6: 1, 7: 1, 3: 1}\n"
     ]
    }
   ],
   "source": [
    "class Stone():\n",
    "    def __init__(self, number):\n",
    "        stonesAfterBlink = []\n",
    "\n",
    "        if number == 0:\n",
    "            stonesAfterBlink.append(1)            \n",
    "        elif len(str(number)) % 2 == 0:\n",
    "            mid = len(str(number)) // 2\n",
    "            stonesAfterBlink.append(int(str(number)[:mid])) # Left stone\n",
    "            rightHalf = str(number)[mid:].lstrip(\"0\")\n",
    "            if rightHalf == \"\":\n",
    "                rightHalf = \"0\"\n",
    "            stonesAfterBlink.append(int(rightHalf)) # Right stone without leading zeroes\n",
    "        else:\n",
    "            stonesAfterBlink.append(number * 2024)  # Using a large prime number as modulus\n",
    "\n",
    "        self.id = number\n",
    "        self.After = stonesAfterBlink\n",
    "\n",
    "\n",
    "StonesInLine = {125: 1, 17: 1}\n",
    "\n",
    "\n",
    "numOfStones = sum(StonesInLine.values())\n",
    "\n",
    "for i in range(6):\n",
    "    newStonesInLine = {}\n",
    "\n",
    "    for stone in StonesInLine.copy():\n",
    "        resultingstones = Stone(stone).After\n",
    "        for y in resultingstones:\n",
    "                newStonesInLine[y] = StonesInLine[stone]\n",
    "\n",
    "    StonesInLine = newStonesInLine\n",
    "    numOfStones += sum(StonesInLine.values())\n",
    "\n",
    "    print(f\"{i+1} {sum(StonesInLine.values()):7} {StonesInLine}\")\n",
    "\n",
    "print()\n",
    "print(\"Part 1: \", numOfStones)\n",
    "print(StonesInLine)"
   ]
  },
  {
   "cell_type": "markdown",
   "metadata": {},
   "source": [
    "Okay Im clearly doing something wrong...\n",
    "\n",
    "I browsed the sum a bit more and found that recursive solution with `@cache` should be used!"
   ]
  },
  {
   "cell_type": "code",
   "execution_count": 2,
   "metadata": {},
   "outputs": [
    {
     "name": "stdout",
     "output_type": "stream",
     "text": [
      "Part 1:  218079\n",
      "Part 2:  259755538429618\n"
     ]
    }
   ],
   "source": [
    "from functools import cache\n",
    "\n",
    "\n",
    "@cache # Without this, function will always compute already computed stuff, with this, one it finds loops, it will just take the result from cache\n",
    "def CountStones(stone, blink = 6):\n",
    "    if blink == 0:\n",
    "        return 1 # stone wont multiply on last blink\n",
    "    if stone == 0:\n",
    "        return CountStones(1, blink - 1) # If you find stone 0, it becomes stone 1\n",
    "\n",
    "    elif len(str(stone)) % 2 == 0:\n",
    "        mid = len(str(stone)) // 2\n",
    "        rightHalf = str(stone)[mid:].lstrip(\"0\")\n",
    "        if rightHalf == \"\":\n",
    "            rightHalf = \"0\"\n",
    "        return (CountStones(int(str(stone)[:mid]), blink - 1) + CountStones(int(rightHalf), blink - 1))\n",
    "    else:\n",
    "        return CountStones(stone * 2024, blink - 1) # Using a large prime number as modulus\n",
    "\n",
    "\n",
    "data = [int(i) for i in open(\"input.txt\", \"r\").read().split(\" \")]\n",
    "print(\"Part 1: \", sum(map(lambda x: CountStones(x, blink = 25), data)))\n",
    "print(\"Part 2: \", sum(map(lambda x: CountStones(x, blink = 75), data)))"
   ]
  },
  {
   "cell_type": "markdown",
   "metadata": {},
   "source": [
    "`@cache` basically stores what function had already computed and once it gets same input parameters, it just takes result from cache, reducing time takes to compute by orders of magnitude"
   ]
  }
 ],
 "metadata": {
  "kernelspec": {
   "display_name": "base",
   "language": "python",
   "name": "python3"
  },
  "language_info": {
   "codemirror_mode": {
    "name": "ipython",
    "version": 3
   },
   "file_extension": ".py",
   "mimetype": "text/x-python",
   "name": "python",
   "nbconvert_exporter": "python",
   "pygments_lexer": "ipython3",
   "version": "3.11.5"
  }
 },
 "nbformat": 4,
 "nbformat_minor": 2
}
