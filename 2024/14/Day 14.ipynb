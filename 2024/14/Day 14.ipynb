{
 "cells": [
  {
   "cell_type": "markdown",
   "metadata": {},
   "source": [
    "# 14. Restroom Redoubt\n",
    "\n",
    "The concept that works on paper:\n",
    "\n",
    "$$\\begin{bmatrix}\n",
    "x \\\\\n",
    "y\n",
    "\\end{bmatrix}=mod\\left(\\begin{bmatrix}\n",
    "p_{x} +t\\cdot v_{x}\\\\\n",
    "p_{y}+t\\cdot v_{y}\n",
    "\\end{bmatrix}, \\begin{bmatrix}\n",
    "s_{x} \\\\\n",
    "s_{y}\n",
    "\\end{bmatrix}\\right)$$\n",
    "Where \n",
    "- $\\vec{p}$ ... initial coordinates\n",
    "- $\\vec{v}$ ... Robot velocity\n",
    "- $\\vec{s}$ ... Size of space\n"
   ]
  },
  {
   "cell_type": "code",
   "execution_count": null,
   "metadata": {},
   "outputs": [
    {
     "name": "stdout",
     "output_type": "stream",
     "text": [
      "Part 1: 225521010\n",
      "Part 2: 7774 found by hand :)\n"
     ]
    },
    {
     "data": {
      "image/png": "[encoded data removed]",
      "text/plain": [
       "<Figure size 640x480 with 1 Axes>"
      ]
     },
     "metadata": {},
     "output_type": "display_data"
    }
   ],
   "source": [
    "import re\n",
    "import numpy as np\n",
    "import matplotlib.pyplot as plt\n",
    "import time\n",
    "\n",
    "def ComputeRobot(px, py, vx, vy, sx, sy, t):\n",
    "    x = (px + t * vx) % sx \n",
    "    y = (py + t * vy) % sy \n",
    "    \n",
    "    return (x, y)\n",
    "\n",
    "data = open(\"input.txt\", \"r\").readlines()\n",
    "\n",
    "W = 101\n",
    "H = 103\n",
    "\n",
    "\n",
    "EndPositions = [ComputeRobot(*map(int, re.findall(r\"(-?\\d+)\", robot)), W, H, 100) for robot in data]\n",
    "\n",
    "count_grid = np.zeros((H, W), dtype=int)\n",
    "# Count the number of robots on each tile\n",
    "for x, y in EndPositions:\n",
    "    count_grid[y][x] += 1\n",
    "\n",
    "\n",
    "# Filter out robots that are exactly in the middle (horizontally or vertically)\n",
    "filtered_positions = [pos for pos in EndPositions if pos[0] != W // 2 and pos[1] != H // 2]\n",
    "\n",
    "# Recalculate the quadrant sums with the filtered positions\n",
    "filtered_count_grid = np.zeros((H, W), dtype=int)\n",
    "for x, y in filtered_positions:\n",
    "    filtered_count_grid[y][x] += 1\n",
    "\n",
    "sums = [\n",
    "    np.sum(filtered_count_grid[:H//2, :W//2]),  # Top-left quadrant\n",
    "    np.sum(filtered_count_grid[:H//2, W//2:]),  # Top-right quadrant\n",
    "    np.sum(filtered_count_grid[H//2:, :W//2]),  # Bottom-left quadrant\n",
    "    np.sum(filtered_count_grid[H//2:, W//2:])   # Bottom-right quadrant\n",
    "]\n",
    "\n",
    "print(\"Part 1:\", np.prod(sums))\n",
    "\n",
    "\n",
    "### Part 2 ###\n",
    "for t in range(7774, 7775):\n",
    "    EndPositions = [ComputeRobot(*map(int, re.findall(r\"(-?\\d+)\", robot)), W, H, t) for robot in data]\n",
    "\n",
    "    count_grid = np.zeros((H, W), dtype=int)\n",
    "    # Count the number of robots on each tile\n",
    "    for x, y in EndPositions:\n",
    "        count_grid[y][x] += 1\n",
    "        \n",
    "    # plt.imsave(f\"Images\\\\{t}.png\", count_grid, cmap = \"gray\")\n",
    "    plt.imshow(count_grid, cmap = \"gray\")\n",
    "\n",
    "    \n",
    "# plt.imsave(f\"Images\\\\{t}.png\", count_grid, cmap = \"gray\")\n",
    "plt.imshow(count_grid, cmap = \"gray\")\n",
    "print(\"Part 2:\", 7774, \"found by hand :)\")\n",
    "# 225521010"
   ]
  }
 ],
 "metadata": {
  "kernelspec": {
   "display_name": "base",
   "language": "python",
   "name": "python3"
  },
  "language_info": {
   "codemirror_mode": {
    "name": "ipython",
    "version": 3
   },
   "file_extension": ".py",
   "mimetype": "text/x-python",
   "name": "python",
   "nbconvert_exporter": "python",
   "pygments_lexer": "ipython3",
   "version": "3.12.7"
  }
 },
 "nbformat": 4,
 "nbformat_minor": 2
}
